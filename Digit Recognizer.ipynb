{
 "cells": [
  {
   "cell_type": "code",
   "execution_count": 89,
   "metadata": {},
   "outputs": [],
   "source": [
    "import pandas as pd\n",
    "import numpy as np\n",
    "from keras import models \n",
    "from keras import layers\n",
    "from keras.utils import to_categorical \n",
    "from sklearn.model_selection import train_test_split\n",
    "import matplotlib.pyplot as plt \n",
    "import csv\n",
    "import os"
   ]
  },
  {
   "cell_type": "code",
   "execution_count": 56,
   "metadata": {},
   "outputs": [
    {
     "name": "stdout",
     "output_type": "stream",
     "text": [
      "28000\n"
     ]
    }
   ],
   "source": [
    "# We are preparing the input data \n",
    "\n",
    "# Loading the training and test data \n",
    "df1 = pd.read_csv('train.csv')\n",
    "test_images = pd.read_csv('test.csv')\n",
    "\n",
    "#Creating training label and data\n",
    "\n",
    "train_labels = df1['label']\n",
    "train_images = df1.drop(labels = ['label'], axis =1)\n",
    "\n",
    "#Normalizing data to greyscale \n",
    "train_images = train_images/255.0\n",
    "test_images = test_images/255.0\n",
    "print(len(test_images))\n",
    "\n",
    "#Train/Validation split\n",
    "x_train, x_val, y_train, y_val = train_test_split(train_images, train_labels, shuffle = True, test_size = 0.2)\n",
    "\n",
    "#Reshaping Data for the CNN \n",
    "train_samples, val_samples = int(len(train_images)*0.8) , int(len(train_images)*0.2)\n",
    "\n",
    "test_images = test_images.to_numpy().reshape((28000,28,28,1))\n",
    "x_train = x_train.to_numpy().reshape((train_samples, 28, 28, 1))\n",
    "x_val = x_val.to_numpy().reshape((val_samples, 28, 28, 1)) \n",
    "\n",
    "#Creating One hot encoding labels \n",
    "y_train = to_categorical(y_train)\n",
    "y_val = to_categorical(y_val)"
   ]
  },
  {
   "cell_type": "code",
   "execution_count": 57,
   "metadata": {},
   "outputs": [],
   "source": [
    "#Create the network\n",
    "\n",
    "\n",
    "def get_model(): \n",
    "    model = models.Sequential()\n",
    "    model.add(layers.Conv2D(32, (3,3), activation = 'relu', input_shape = (28,28,1)))\n",
    "    model.add(layers.MaxPooling2D(2,2))\n",
    "    model.add(layers.Conv2D(64, (3,3), activation = 'relu'))\n",
    "    model.add(layers.MaxPooling2D(2,2))\n",
    "    model.add(layers.Conv2D(64, (3,3), activation = 'relu'))\n",
    "    model.add(layers.Flatten())\n",
    "    model.add(layers.Dense(64, activation = 'relu'))\n",
    "    model.add(layers.Dense(10, activation = 'softmax'))\n",
    "    \n",
    "    model.compile(optimizer = 'rmsprop', loss = 'categorical_crossentropy', metrics = ['accuracy'])\n",
    "    \n",
    "    return model\n",
    "\n",
    "model = get_model()"
   ]
  },
  {
   "cell_type": "code",
   "execution_count": 58,
   "metadata": {},
   "outputs": [
    {
     "name": "stdout",
     "output_type": "stream",
     "text": [
      "Model: \"sequential_6\"\n",
      "_________________________________________________________________\n",
      "Layer (type)                 Output Shape              Param #   \n",
      "=================================================================\n",
      "conv2d_18 (Conv2D)           (None, 26, 26, 32)        320       \n",
      "_________________________________________________________________\n",
      "max_pooling2d_12 (MaxPooling (None, 13, 13, 32)        0         \n",
      "_________________________________________________________________\n",
      "conv2d_19 (Conv2D)           (None, 11, 11, 64)        18496     \n",
      "_________________________________________________________________\n",
      "max_pooling2d_13 (MaxPooling (None, 5, 5, 64)          0         \n",
      "_________________________________________________________________\n",
      "conv2d_20 (Conv2D)           (None, 3, 3, 64)          36928     \n",
      "_________________________________________________________________\n",
      "flatten_5 (Flatten)          (None, 576)               0         \n",
      "_________________________________________________________________\n",
      "dense_10 (Dense)             (None, 64)                36928     \n",
      "_________________________________________________________________\n",
      "dense_11 (Dense)             (None, 10)                650       \n",
      "=================================================================\n",
      "Total params: 93,322\n",
      "Trainable params: 93,322\n",
      "Non-trainable params: 0\n",
      "_________________________________________________________________\n"
     ]
    }
   ],
   "source": [
    "model.summary()"
   ]
  },
  {
   "cell_type": "code",
   "execution_count": 59,
   "metadata": {},
   "outputs": [
    {
     "name": "stdout",
     "output_type": "stream",
     "text": [
      "Epoch 1/5\n",
      "66/66 [==============================] - 21s 290ms/step - loss: 1.2725 - accuracy: 0.5802 - val_loss: 0.2846 - val_accuracy: 0.9101\n",
      "Epoch 2/5\n",
      "66/66 [==============================] - 18s 280ms/step - loss: 0.2351 - accuracy: 0.9259 - val_loss: 0.2027 - val_accuracy: 0.9383\n",
      "Epoch 3/5\n",
      "66/66 [==============================] - 19s 285ms/step - loss: 0.1287 - accuracy: 0.9598 - val_loss: 0.1063 - val_accuracy: 0.9661\n",
      "Epoch 4/5\n",
      "66/66 [==============================] - 19s 285ms/step - loss: 0.0820 - accuracy: 0.9741 - val_loss: 0.0710 - val_accuracy: 0.9777\n",
      "Epoch 5/5\n",
      "66/66 [==============================] - 18s 281ms/step - loss: 0.0615 - accuracy: 0.9799 - val_loss: 0.0802 - val_accuracy: 0.9750\n"
     ]
    }
   ],
   "source": [
    "history = model.fit(\n",
    "        x_train, \n",
    "        y_train, \n",
    "        epochs = 5, \n",
    "        batch_size = 512, \n",
    "        validation_data = (x_val, y_val)\n",
    "    )"
   ]
  },
  {
   "cell_type": "code",
   "execution_count": 60,
   "metadata": {},
   "outputs": [
    {
     "data": {
      "text/plain": [
       "dict_keys(['loss', 'accuracy', 'val_loss', 'val_accuracy'])"
      ]
     },
     "execution_count": 60,
     "metadata": {},
     "output_type": "execute_result"
    }
   ],
   "source": [
    "history.history.keys()"
   ]
  },
  {
   "cell_type": "code",
   "execution_count": 61,
   "metadata": {},
   "outputs": [
    {
     "data": {
      "image/png": "[encoded data removed]",
      "text/plain": [
       "<Figure size 432x288 with 1 Axes>"
      ]
     },
     "metadata": {
      "needs_background": "light"
     },
     "output_type": "display_data"
    }
   ],
   "source": [
    "epochs = range(1,6) \n",
    "training_loss = history.history['loss']\n",
    "validation_loss = history.history['val_loss']\n",
    "\n",
    "plt.plot(epochs, training_loss, 'bo', label = 'Training Loss')\n",
    "plt.plot(epochs, validation_loss, 'ro', label = 'Validation Loss')\n",
    "plt.title('Training and Validation Loss')\n",
    "plt.xlabel('Epochs')\n",
    "plt.ylabel('Loss')\n",
    "plt.legend()\n",
    "plt.show()"
   ]
  },
  {
   "cell_type": "code",
   "execution_count": 62,
   "metadata": {},
   "outputs": [
    {
     "data": {
      "image/png": "[encoded data removed]",
      "text/plain": [
       "<Figure size 432x288 with 1 Axes>"
      ]
     },
     "metadata": {
      "needs_background": "light"
     },
     "output_type": "display_data"
    }
   ],
   "source": [
    "epochs = range(1,6) \n",
    "training_loss = history.history['accuracy']\n",
    "validation_loss = history.history['val_accuracy']\n",
    "\n",
    "plt.plot(epochs, training_loss, 'bo', label = 'Training Accuracy')\n",
    "plt.plot(epochs, validation_loss, 'ro', label = 'Validation Accuracy')\n",
    "plt.title('Training and Validation Accuracy')\n",
    "plt.xlabel('Epochs')\n",
    "plt.ylabel('Accuracy')\n",
    "plt.legend()\n",
    "plt.show()"
   ]
  },
  {
   "cell_type": "code",
   "execution_count": 77,
   "metadata": {},
   "outputs": [],
   "source": [
    "predictions = model.predict(test_images)\n",
    "predictions = np.argmax(predictions, axis=1)"
   ]
  },
  {
   "cell_type": "code",
   "execution_count": 97,
   "metadata": {},
   "outputs": [],
   "source": [
    "image_id = []\n",
    "for i, value in enumerate(predictions): \n",
    "    image_id.append(i+1)\n",
    "    \n",
    "df = pd.DataFrame(\n",
    "    {\n",
    "        'ImageID' : image_id, \n",
    "        'Label' : predictions\n",
    "    }\n",
    ")\n",
    "directory = os.getcwd() + \"\\\\predictions.csv\"\n",
    "\n",
    "df.to_csv(path_or_buf = directory, index=False)"
   ]
  }
 ],
 "metadata": {
  "kernelspec": {
   "display_name": "Python 3",
   "language": "python",
   "name": "python3"
  },
  "language_info": {
   "codemirror_mode": {
    "name": "ipython",
    "version": 3
   },
   "file_extension": ".py",
   "mimetype": "text/x-python",
   "name": "python",
   "nbconvert_exporter": "python",
   "pygments_lexer": "ipython3",
   "version": "3.8.5"
  }
 },
 "nbformat": 4,
 "nbformat_minor": 4
}
